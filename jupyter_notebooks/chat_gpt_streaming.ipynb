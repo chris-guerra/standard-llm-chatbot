{
 "cells": [
  {
   "cell_type": "code",
   "execution_count": 1,
   "metadata": {},
   "outputs": [
    {
     "data": {
      "text/plain": [
       "[{'role': 'assistant', 'content': 'hi'},\n",
       " {'role': 'user', 'content': 'dude'},\n",
       " {'role': 'assistant', 'content': 'good day'}]"
      ]
     },
     "execution_count": 1,
     "metadata": {},
     "output_type": "execute_result"
    }
   ],
   "source": [
    "messages = [\n",
    "    {\"role\": \"assistant\", \"content\": \"hi\"},\n",
    "    {\"role\": \"user\", \"content\": \"dude\"},\n",
    "    {\"role\": \"assistant\", \"content\": \"good day\"}\n",
    "]\n",
    "\n",
    "[{\"role\": m[\"role\"], \"content\": m[\"content\"]} for m in messages]"
   ]
  },
  {
   "cell_type": "code",
   "execution_count": 1,
   "metadata": {},
   "outputs": [
    {
     "name": "stdout",
     "output_type": "stream",
     "text": [
      "Sure! Here’s the count from 1 to 100:\n",
      "\n",
      "1, 2, 3, 4, 5, 6, 7, 8, 9, 10,  \n",
      "11, 12, 13, 14, 15, 16, 17, 18, 19, 20,  \n",
      "21, 22, 23, 24, 25, 26, 27, 28, 29, 30,  \n",
      "31, 32, 33, 34, 35, 36, 37, 38, 39, 40,  \n",
      "41, 42, 43, 44, 45, 46, 47, 48, 49, 50,  \n",
      "51, 52, 53, 54, 55, 56, 57, 58, 59, 60,  \n",
      "61, 62, 63, 64, 65, 66, 67, 68, 69, 70,  \n",
      "71, 72, 73, 74, 75, 76, 77, 78, 79, 80,  \n",
      "81, 82, 83, 84, 85, 86, 87, 88, 89, 90,  \n",
      "91, 92, 93, 94, 95, 96, 97, 98, 99, 100.  \n",
      "\n",
      "Let me know if you need anything else!"
     ]
    }
   ],
   "source": [
    "from openai import OpenAI\n",
    "\n",
    "client = OpenAI()\n",
    "\n",
    "\n",
    "openai_chat_stream = client.chat.completions.create(\n",
    "    model= 'gpt-4o-mini',\n",
    "    temperature=0,\n",
    "    messages=[\n",
    "        {\"role\": \"assistant\", \"content\": \"You are a helpful assistant.\"},\n",
    "        {\"role\": \"user\", \"content\": \"Count from 1 to 100.\"},\n",
    "        ],\n",
    "    stream=True\n",
    "        )\n",
    "\n",
    "for chunk in openai_chat_stream:\n",
    "    if chunk.choices[0].delta.content is not None:\n",
    "        print(chunk.choices[0].delta.content, end=\"\")\n"
   ]
  },
  {
   "cell_type": "code",
   "execution_count": null,
   "metadata": {},
   "outputs": [],
   "source": []
  }
 ],
 "metadata": {
  "kernelspec": {
   "display_name": ".venv",
   "language": "python",
   "name": "python3"
  },
  "language_info": {
   "codemirror_mode": {
    "name": "ipython",
    "version": 3
   },
   "file_extension": ".py",
   "mimetype": "text/x-python",
   "name": "python",
   "nbconvert_exporter": "python",
   "pygments_lexer": "ipython3",
   "version": "3.12.2"
  }
 },
 "nbformat": 4,
 "nbformat_minor": 2
}
